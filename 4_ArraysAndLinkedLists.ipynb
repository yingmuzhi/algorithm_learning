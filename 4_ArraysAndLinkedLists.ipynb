{
 "cells": [
  {
   "cell_type": "markdown",
   "metadata": {},
   "source": [
    "## x.1 数组\n",
    "\n",
    "array数组最常见的线性数据结构（注意英文名不是list，list是列表，是Python中的一种特殊的对象），array将相同类型的element元素存储在连续的内存空间中，array中的重要部分除了element还有memory location内存地址。下图例中的element是int类型，所以一个element所占内存为0x04个Bytes字节。\n",
    "\n",
    "![图片](src/3.jpg)\n",
    "\n",
    "下面我们使用Python进行数组的常用操作，包括1. 初始化数组，2. 访问元素，3. 插入元素，4. 删除元素，5. 遍历元素，6. 查找元素，7. 扩容数组。\n",
    "\n",
    "数组的最大优点，在于其可以节省空间资源且其可以随机访问。"
   ]
  },
  {
   "cell_type": "code",
   "execution_count": 5,
   "metadata": {},
   "outputs": [
    {
     "name": "stdout",
     "output_type": "stream",
     "text": [
      "<class 'int'>\n",
      "0\n"
     ]
    }
   ],
   "source": [
    "\"\"\"\n",
    "1. 初始化数组\n",
    "\n",
    "我们可以使用type关键字来查看元素的数据类型\n",
    "\"\"\"\n",
    "arr: list[int] = [0] * 5\n",
    "nums: list[int] = [1, 2, 3]\n",
    "\n",
    "print(type(arr[0]))\n",
    "\n",
    "\n",
    "\"\"\"\n",
    "2. 访问元素\n",
    "\n",
    "由于Python的array数组不涉及到内存地址访问，所以非常简单，直接用array[]便可以访问\n",
    "\"\"\"\n",
    "print(arr[0])\n",
    "\n",
    "\n",
    "\"\"\"\n",
    "3. 插入元素\n",
    "\n",
    "由于是顺序表，插入元素的思想和C中的是一样的，需要把从插入位置开始的后面的所有元素，从最后一个元素开始往后移动\n",
    "\"\"\"\n",
    "def insert(arr: list[int], element: int, index: int):\n",
    "    \"\"\"在array[index]位置插入元素element\"\"\"\n",
    "    # 把索引 index 以及之后的所有元素向后移动一位\n",
    "    for i in range(len(arr) - 1, index, -1):\n",
    "        arr[i] = arr[i] - 1\n",
    "    # 赋值\n",
    "    arr[index] = element\n",
    "\n",
    "\n",
    "\"\"\"\n",
    "4. 删除元素\n",
    "\n",
    "删除元素比较简单，就是把特定位置的元素从前往后覆盖\n",
    "\"\"\"\n",
    "def remove(arr: list, index: int):\n",
    "    \"\"\"删除arr[index]的元素\"\"\"\n",
    "    for i in range(index, len(arr) - 1):\n",
    "        arr[index] = arr[index + 1]\n",
    "\n"
   ]
  },
  {
   "cell_type": "markdown",
   "metadata": {},
   "source": [
    "## x.2 链表\n",
    "\n",
    "linkedlist链表是一种线性数据结构，每一个元素都是一个节点对象，链表节点ListNode包含值和引用（指针），因此相比较于数组需要占用更多的内存空间。\n",
    "\n",
    "- 链表首节点叫“头节点”， 最后一个节点叫做“尾节点”。\n",
    "- 尾节点指向空，在Java, C++, Python中分别被标记为null, nullptr, None\n"
   ]
  },
  {
   "cell_type": "code",
   "execution_count": 6,
   "metadata": {},
   "outputs": [],
   "source": [
    "class ListNode(object):\n",
    "    def __init__(self, val: int):\n",
    "        self.val: int = val\n",
    "        self.next: ListNode | None = None   # 下一个节点的引用"
   ]
  },
  {
   "cell_type": "markdown",
   "metadata": {},
   "source": [
    "链表常用操作包括初始化链表，插入节点，删除节点，访问节点，查找节点。下面将用Python对操作进行讲解。"
   ]
  },
  {
   "cell_type": "code",
   "execution_count": 7,
   "metadata": {},
   "outputs": [],
   "source": [
    "\"\"\"\n",
    "1. 初始化链表\n",
    "\"\"\"\n",
    "# 初始化各个节点的值\n",
    "n0 = ListNode(1)\n",
    "n1 = ListNode(3)\n",
    "# 构建节点间的引用\n",
    "n0.next = n1\n",
    "n1.next = None\n",
    "\n",
    "\n",
    "\"\"\"\n",
    "2. 插入节点\n",
    "\"\"\"\n",
    "def insert(n0: ListNode, P: ListNode):\n",
    "    \"\"\"在n0后面增加节点P\"\"\"\n",
    "    n1 = n0.next\n",
    "    n0.next = P\n",
    "    P.next = n1\n",
    "\n",
    "\"\"\"\n",
    "3. 删除节点\n",
    "\"\"\"\n",
    "def remove(n0: ListNode):\n",
    "    n0.next = n0.next.next\n",
    "\n"
   ]
  },
  {
   "cell_type": "markdown",
   "metadata": {},
   "source": [
    "## x.3 列表\n",
    "\n",
    "list列表是一个抽象的数据结构概念，表示元素的有序集合，支持元素访问，修改，添加，删除和遍历，无需考虑容量限制的问题。在很多语言中可以使用dynamic array动态数组来实现list。"
   ]
  }
 ],
 "metadata": {
  "kernelspec": {
   "display_name": "env_cp311_ymz",
   "language": "python",
   "name": "python3"
  },
  "language_info": {
   "codemirror_mode": {
    "name": "ipython",
    "version": 3
   },
   "file_extension": ".py",
   "mimetype": "text/x-python",
   "name": "python",
   "nbconvert_exporter": "python",
   "pygments_lexer": "ipython3",
   "version": "3.11.0"
  }
 },
 "nbformat": 4,
 "nbformat_minor": 2
}
