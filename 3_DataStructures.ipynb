{
 "cells": [
  {
   "cell_type": "markdown",
   "metadata": {},
   "source": [
    "## x.1 数据结构分类\n",
    "\n",
    "常见的数据结构包括数组，链表，栈，队列，哈希表，树，堆，图。这些结构可以从“逻辑结构”，“物理结构”两个维度进行分类。\n",
    "\n",
    "从逻辑结构划分可以分为“线性”和“非线性”，主要是根据元素对应关系来划分。\n",
    "\n",
    "- **线性结构**：元素之间的关系是一一对应的。包括有：数组、链表、栈、队列、哈希表。\n",
    "- **非线性结构**：元素间关系可以是一对多或者多对多。树，堆，图，哈希表。\n",
    "\n",
    "从物理结构划分可以分为“连续”和“分散”，这个主要是根据数据在计算机内存中的存储方式。数组是连续的，链表是分散的。\n",
    "\n",
    "值得说明的是所有数据结构都是基于数组，链表或者二者组合实现的。"
   ]
  },
  {
   "cell_type": "markdown",
   "metadata": {},
   "source": [
    "## x.2 基本数据类型\n",
    "\n",
    "计算机的数据如文本，图片，视频，语音等都是由基本数据类型构成的。基本数据类型是指CPU可以直接进行运算的类型，主要包括以下四种，\n",
    "\n",
    "- 整数类型：byte，short，int，long\n",
    "- 浮点类型：float，double\n",
    "- 字符类型：char\n",
    "- 布尔类型：bool\n",
    "\n",
    "String在C中是一种类哈。它的存储占用空间如下：\n",
    "\n",
    "![图片](src/2.jpg)\n",
    "\n",
    "虽然算法一般用C/C++完成，但我们这一版本的算法主要使用python来完成，如下，"
   ]
  },
  {
   "cell_type": "code",
   "execution_count": 2,
   "metadata": {},
   "outputs": [],
   "source": [
    "# 使用多种数据类型初始化数组\n",
    "numbers: list[int] = [0] * 5\n",
    "decimals: list[float] = [0.0] * 5\n",
    "# Python 的字符实际上是长度为1的字符串，结尾没有'\\0'; False是大写，和C不同\n",
    "characters: list[str] = ['0'] * 5\n",
    "bools: list[bool] = [False] * 7\n",
    "# Python 的list/列表可以自由存储各种基本数据类型和对象引用，这一点和C完全不同，C只能存储同一类型数据或者指针\n",
    "class ListNode(object):\n",
    "    pass\n",
    "data: list = [0, 0., 'a', False, ListNode()]"
   ]
  },
  {
   "cell_type": "markdown",
   "metadata": {},
   "source": [
    "## x.3 数字编码\n",
    "\n",
    "如二进制的原码，补码等，指计算机内部表示。"
   ]
  },
  {
   "cell_type": "markdown",
   "metadata": {},
   "source": [
    "## x.4 字符编码\n",
    "\n",
    "如ASCII字符集等"
   ]
  },
  {
   "cell_type": "markdown",
   "metadata": {},
   "source": [
    "## x.5 小结"
   ]
  }
 ],
 "metadata": {
  "kernelspec": {
   "display_name": "env_cp311_ymz",
   "language": "python",
   "name": "python3"
  },
  "language_info": {
   "codemirror_mode": {
    "name": "ipython",
    "version": 3
   },
   "file_extension": ".py",
   "mimetype": "text/x-python",
   "name": "python",
   "nbconvert_exporter": "python",
   "pygments_lexer": "ipython3",
   "version": "3.11.0"
  }
 },
 "nbformat": 4,
 "nbformat_minor": 2
}
